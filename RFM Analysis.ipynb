{
 "cells": [
  {
   "cell_type": "markdown",
   "id": "b5355dfe",
   "metadata": {},
   "source": [
    "<img height=\"332\" width=\"809\" alt=\"types of segmentation\" src=\"https://res.cloudinary.com/dyd911kmh/image/upload/f_auto,q_auto:best/v1537803937/types_of_segmentation_hm7mmz.png\" loading=\"lazy\">"
   ]
  },
  {
   "cell_type": "markdown",
   "id": "30e718ba",
   "metadata": {},
   "source": [
    "#  Customer Segmentation Using (RFM) analysis"
   ]
  },
  {
   "cell_type": "markdown",
   "id": "b622efc9",
   "metadata": {},
   "source": [
    "<p>RFM (Recency, Frequency, Monetary) analysis is a behavior-based approach grouping customers into segments. It groups the customers on the basis of their previous purchase transactions. How recently, how often, and how much did a customer buy. RFM filters customers into various groups for the purpose of better service. It helps managers to identify potential customers to do more profitable business. There is a segment of customer who is the big spender but what if they purchased only once or how recently they purchased? Do they often purchase our product? Also, It helps managers to run an effective promotional campaign for personalized service.</p>"
   ]
  },
  {
   "cell_type": "markdown",
   "id": "00de2126",
   "metadata": {},
   "source": [
    "<ul>\n",
    "<li>Recency (R): Who have purchased recently? Number of days since last purchase (least recency)</li>\n",
    "<li>Frequency (F): Who has purchased frequently? It means the total number of purchases. ( high frequency)</li>\n",
    "<li>Monetary Value(M): Who have high purchase amount? It means the total money customer spent (high monetary value)</li>\n",
    "</ul>"
   ]
  },
  {
   "cell_type": "markdown",
   "id": "96b704a4",
   "metadata": {},
   "source": [
    "<p>Here, Each of the three variables(Recency, Frequency, and Monetary) consists of four equal groups, which creates 64 (4x4x4) different customer segments.</p>\n",
    "<p>Steps of RFM(Recency, Frequency, Monetary):</p>\n",
    "\n",
    "<ul>\n",
    "<li>Calculate the Recency, Frequency, Monetary values for each customer.</li>\n",
    "<li>Add segment bin values to RFM table using quartile.</li>\n",
    "<li>Sort the customer RFM score in ascending order.</li>\n",
    "</ul>"
   ]
  },
  {
   "cell_type": "markdown",
   "id": "bf406258",
   "metadata": {},
   "source": [
    "<h4 id=\"1.-calculate-the-recency,-frequency,-monetary-values-for-each-customer.\">1. Calculate the Recency, Frequency, Monetary values for each customer.</h4>\n",
    "<img height=\"278\" width=\"428\" alt=\"Recency, Frequency, Monetary values\" src=\"https://res.cloudinary.com/dyd911kmh/image/upload/f_auto,q_auto:best/v1537803936/screenshot1_lvffvf.png\" loading=\"lazy\">"
   ]
  },
  {
   "cell_type": "code",
   "execution_count": null,
   "id": "9e008765",
   "metadata": {},
   "outputs": [],
   "source": [
    "# Calculate Recency, Frequency and Monetary value for each customer \n",
    "datamart = online.groupby(['CustomerID']).agg({\n",
    "    'InvoiceDate': lambda x: (snapshot_date - x.max()).days,\n",
    "    'InvoiceNo': 'count',\n",
    "    'TotalSum': 'sum'})\n",
    "\n",
    "# Rename the columns \n",
    "datamart.rename(columns={'InvoiceDate': 'Recency',\n",
    "                         'InvoiceNo': 'Frequency',\n",
    "                         'TotalSum': 'MonetaryValue'}, inplace=True)"
   ]
  },
  {
   "cell_type": "markdown",
   "id": "0ca63374",
   "metadata": {},
   "source": [
    "<h4 id=\"2.-add-segment-bin-values-to-rfm-table-using-quartile.\">2. Add segment bin values to RFM table using quartile.</h4>\n",
    "<img height=\"289\" width=\"763\" alt=\"segment bin values on RFM table\" src=\"https://res.cloudinary.com/dyd911kmh/image/upload/f_auto,q_auto:best/v1537803936/screenshot2_culp4h.png\" loading=\"lazy\">"
   ]
  },
  {
   "cell_type": "markdown",
   "id": "44d29b7c",
   "metadata": {},
   "source": [
    "<h4 id=\"3.-concate-all-scores-in-single-column(rfm_score).\">3. Concate all scores in single column(RFM_Score).</h4>\n",
    "<img height=\"260\" width=\"800\" alt=\"all scores in single column\" src=\"https://res.cloudinary.com/dyd911kmh/image/upload/f_auto,q_auto:best/v1537803936/screenshot3_wnweuj.png\" loading=\"lazy\">"
   ]
  }
 ],
 "metadata": {
  "kernelspec": {
   "display_name": "Python 3",
   "language": "python",
   "name": "python3"
  },
  "language_info": {
   "codemirror_mode": {
    "name": "ipython",
    "version": 3
   },
   "file_extension": ".py",
   "mimetype": "text/x-python",
   "name": "python",
   "nbconvert_exporter": "python",
   "pygments_lexer": "ipython3",
   "version": "3.8.8"
  }
 },
 "nbformat": 4,
 "nbformat_minor": 5
}
